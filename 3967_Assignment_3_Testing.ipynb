{
 "cells": [
  {
   "attachments": {},
   "cell_type": "markdown",
   "metadata": {},
   "source": [
    "# Python for Automation - Assignment 3\n",
    "\n",
    "## Assignment Objectives\n",
    "\n",
    "The objectives of this assignment are to test your understanding of the programming best practices, including:\n",
    "\n",
    "* Unit tests\n",
    "* Quality code\n",
    "\n",
    "\n",
    "## Assignment Instructions\n",
    "\n",
    "For each of the questions below, write Python code to produce the answer. Be sure to run your code and display the output.\n",
    "\n",
    "To submit the assignment, save your Jupyter notebook and submit the file in Quercus."
   ]
  },
  {
   "attachments": {},
   "cell_type": "markdown",
   "metadata": {},
   "source": [
    "### Question 1 (10 marks):\n",
    "\n",
    "Create a \"Number Guessing\" application where the computer picks a number between 1 and 100, and the user has to guess which number the game has given. Each time the guess is incorrect, the application can provide a clue (e.g., divisible by 2, greater than 50, etc.)."
   ]
  },
  {
   "cell_type": "code",
   "execution_count": null,
   "metadata": {},
   "outputs": [],
   "source": [
    "import random\n",
    "\n",
    "def number_guessing_game():\n",
    "    number = random.randint(1, 100)\n",
    "    attempts = 1\n",
    "    \n",
    "    print(\"Welcome to the Number Guessing Game!\")\n",
    "    print(\"I have picked a number between 1 and 100. Can you guess it?  Note, the number is \", number)\n",
    "    \n",
    "    guess = int(input(\"Enter your guess: \"))\n",
    "\n",
    "    while guess!=number:\n",
    "        attempts = attempts+1\n",
    "        \n",
    "        # Provide a clue\n",
    "        #if the guess is lower than the number\n",
    "        if guess < number:\n",
    "            clue = \"Too low! Try again. \"\n",
    "        \n",
    "        #if the guess is higher than the number\n",
    "        if guess > number:\n",
    "            clue = \"Too high! Try again. \"             \n",
    "       \n",
    "        #if the user guesses an odd number and the number is actually even, then let them know\n",
    "        if guess % 2 != 0 and number%2==0:\n",
    "            clue = clue + \"Hint: The number is even. \"\n",
    "\n",
    "        #if the user guesses an even number and the number is actually odd, then let them know\n",
    "        if guess%2==0 and number%2!=0:\n",
    "            clue = clue + \"Hint: The number is odd. \"\n",
    "\n",
    "        #if the user guesses an even number and then number is also even, then let them know\n",
    "        if guess%2==0 and number%2==0:\n",
    "            clue = clue + \"Hint: That's right, the number is even \"\n",
    "\n",
    "        #if the user guesses an odd number and then number is also odd, then let them know\n",
    "        if guess%2!=0 and number%2!=0:\n",
    "            clue = clue + \"Hint: That's right, the number is odd \"\n",
    "\n",
    "        #if the user guess is less than 50, but the number is actually 50 or greater, then let them know\n",
    "        if guess<50 and number>=50:\n",
    "            clue = clue + \"Hint: The number is greater than or equal to 50 \"\n",
    "\n",
    "        #if the user guess is greater than 50, but the number is actually 50 or less, then let them know\n",
    "        if guess>50 and number<=50:\n",
    "            clue = clue + \"Hint: The number is less than or equal to 50 \"\n",
    "\n",
    "        elif (guess<50 and number<50) or (guess>50 and number>50):\n",
    "            clue = clue + \"Hint: You're in the right range \" \n",
    "\n",
    "        print(clue)\n",
    "        guess = int(input(\"Enter your guess: \"))\n",
    "      \n",
    "\n",
    "    print(f\"Congratulations! You guessed the number in {attempts} attempts!\")\n",
    "\n",
    "\n",
    "\n"
   ]
  },
  {
   "cell_type": "code",
   "execution_count": null,
   "metadata": {},
   "outputs": [],
   "source": [
    "number_guessing_game()"
   ]
  },
  {
   "attachments": {},
   "cell_type": "markdown",
   "metadata": {},
   "source": [
    "### Question 2 (5 marks):\n",
    "\n",
    "Build a set of unit tests for the application. Explain your rationale for which tests you decided to build."
   ]
  },
  {
   "cell_type": "code",
   "execution_count": null,
   "metadata": {},
   "outputs": [],
   "source": []
  },
  {
   "cell_type": "code",
   "execution_count": null,
   "metadata": {},
   "outputs": [],
   "source": []
  }
 ],
 "metadata": {
  "kernelspec": {
   "display_name": "Python 3",
   "language": "python",
   "name": "python3"
  },
  "language_info": {
   "codemirror_mode": {
    "name": "ipython",
    "version": 3
   },
   "file_extension": ".py",
   "mimetype": "text/x-python",
   "name": "python",
   "nbconvert_exporter": "python",
   "pygments_lexer": "ipython3",
   "version": "3.11.4"
  }
 },
 "nbformat": 4,
 "nbformat_minor": 4
}
