{
 "cells": [
  {
   "attachments": {},
   "cell_type": "markdown",
   "metadata": {},
   "source": [
    "# Python for Automation - Assignment 3\n",
    "\n",
    "## Assignment Objectives\n",
    "\n",
    "The objectives of this assignment are to test your understanding of the programming best practices, including:\n",
    "\n",
    "* Unit tests\n",
    "* Quality code\n",
    "\n",
    "\n",
    "## Assignment Instructions\n",
    "\n",
    "For each of the questions below, write Python code to produce the answer. Be sure to run your code and display the output.\n",
    "\n",
    "To submit the assignment, save your Jupyter notebook and submit the file in Quercus."
   ]
  },
  {
   "attachments": {},
   "cell_type": "markdown",
   "metadata": {},
   "source": [
    "### Question 1 (10 marks):\n",
    "\n",
    "Create a \"Number Guessing\" application where the computer picks a number between 1 and 100, and the user has to guess which number the game has given. Each time the guess is incorrect, the application can provide a clue (e.g., divisible by 2, greater than 50, etc.)."
   ]
  },
  {
   "cell_type": "code",
   "execution_count": null,
   "metadata": {},
   "outputs": [],
   "source": [
    "import random\n",
    "\n",
    "def number_guessing_game():\n",
    "    number = random.randint(1, 100)\n",
    "    attempts = 0\n",
    "    \n",
    "    print(\"Welcome to the Number Guessing Game!\")\n",
    "    print(\"I have picked a number between 1 and 100. Can you guess it?\")\n",
    "    \n",
    "    while True:\n",
    "        guess = int(input(\"Enter your guess: \"))\n",
    "        attempts += 1\n",
    "        \n",
    "        if guess < number:\n",
    "            print(\"Too low! Try again.\")\n",
    "        elif guess > number:\n",
    "            print(\"Too high! Try again.\")\n",
    "        else:\n",
    "            print(f\"Congratulations! You guessed the number in {attempts} attempts!\")\n",
    "            break\n",
    "\n",
    "        # Provide a clue\n",
    "        if guess % 2 == 0:\n",
    "            print(\"Hint: The number is divisible by 2.\")\n",
    "        else:\n",
    "            print(\"Hint: The number is not divisible by 2.\")\n",
    "\n",
    "number_guessing_game()\n",
    "\n"
   ]
  },
  {
   "cell_type": "code",
   "execution_count": null,
   "metadata": {},
   "outputs": [],
   "source": []
  },
  {
   "attachments": {},
   "cell_type": "markdown",
   "metadata": {},
   "source": [
    "### Question 2 (5 marks):\n",
    "\n",
    "Build a set of unit tests for the application. Explain your rationale for which tests you decided to build."
   ]
  },
  {
   "cell_type": "code",
   "execution_count": null,
   "metadata": {},
   "outputs": [],
   "source": []
  },
  {
   "cell_type": "code",
   "execution_count": null,
   "metadata": {},
   "outputs": [],
   "source": []
  }
 ],
 "metadata": {
  "kernelspec": {
   "display_name": "Python 3",
   "language": "python",
   "name": "python3"
  },
  "language_info": {
   "codemirror_mode": {
    "name": "ipython",
    "version": 3
   },
   "file_extension": ".py",
   "mimetype": "text/x-python",
   "name": "python",
   "nbconvert_exporter": "python",
   "pygments_lexer": "ipython3",
   "version": "3.7.12"
  }
 },
 "nbformat": 4,
 "nbformat_minor": 4
}
