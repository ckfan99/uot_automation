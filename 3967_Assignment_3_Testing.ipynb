{
 "cells": [
  {
   "attachments": {},
   "cell_type": "markdown",
   "metadata": {},
   "source": [
    "# Python for Automation - Assignment 3\n",
    "\n",
    "## Assignment Objectives\n",
    "\n",
    "The objectives of this assignment are to test your understanding of the programming best practices, including:\n",
    "\n",
    "* Unit tests\n",
    "* Quality code\n",
    "\n",
    "\n",
    "## Assignment Instructions\n",
    "\n",
    "For each of the questions below, write Python code to produce the answer. Be sure to run your code and display the output.\n",
    "\n",
    "To submit the assignment, save your Jupyter notebook and submit the file in Quercus."
   ]
  },
  {
   "attachments": {},
   "cell_type": "markdown",
   "metadata": {},
   "source": [
    "### Question 1 (10 marks):\n",
    "\n",
    "Create a \"Number Guessing\" application where the computer picks a number between 1 and 100, and the user has to guess which number the game has given. Each time the guess is incorrect, the application can provide a clue (e.g., divisible by 2, greater than 50, etc.)."
   ]
  },
  {
   "cell_type": "code",
   "execution_count": 1,
   "metadata": {},
   "outputs": [],
   "source": [
    "import random\n",
    "\n",
    "def generate_random_number(low,high):\n",
    "    #this function will generate the random number between the low number and the high number inclusive\n",
    "    #assumption1 : the low number will always be lower than the high number\n",
    "    #assumption2 : the low and high numbers will always be greater than zero\n",
    "    \n",
    "    if low<1:\n",
    "        low = 1\n",
    "\n",
    "    if low<0:\n",
    "        low = abs(low)\n",
    "    \n",
    "    if high<0:\n",
    "        high = abs(high)\n",
    "\n",
    "    if low>high:\n",
    "        temp = high\n",
    "        high = low\n",
    "        low = temp\n",
    "        \n",
    "    number = random.randint(low,high)\n",
    "    return number\n",
    "\n",
    "def generate_clue(number,guess):\n",
    "    # this function will generate and printout the clues\n",
    "    # assumption: the number and guess will always be not equal\n",
    "\n",
    "\n",
    "    #if the guess is lower than the number\n",
    "    clue = \"You guessed \" + str(guess) + \". \"\n",
    "    \n",
    "    if guess < number:\n",
    "        clue += \"Too low! Try again. \"\n",
    "        \n",
    "    #if the guess is higher than the number\n",
    "    if guess > number:\n",
    "        clue += \"Too high! Try again. \"             \n",
    "       \n",
    "    #if the user guesses an odd number and the number is actually even, then let them know\n",
    "    if guess % 2 != 0 and number%2==0:\n",
    "        clue = clue + \"Hint: The number is even. \"\n",
    "\n",
    "    #if the user guesses an even number and the number is actually odd, then let them know\n",
    "    if guess%2==0 and number%2!=0:\n",
    "        clue = clue + \"Hint: The number is odd. \"\n",
    "\n",
    "    #if the user guesses an even number and then number is also even, then let them know\n",
    "    if guess%2==0 and number%2==0:\n",
    "        clue = clue + \"Hint: That's right, the number is even \"\n",
    "\n",
    "    #if the user guesses an odd number and then number is also odd, then let them know\n",
    "    if guess%2!=0 and number%2!=0:\n",
    "        clue = clue + \"Hint: That's right, the number is odd \"\n",
    "\n",
    "    #if the user guess is less than 50, but the number is actually 50 or greater, then let them know\n",
    "    if guess<50 and number>=50:\n",
    "        clue = clue + \"Hint: The number is greater than or equal to 50 \"\n",
    "\n",
    "    #if the user guess is greater than 50, but the number is actually 50 or less, then let them know\n",
    "    if guess>50 and number<=50:\n",
    "        clue = clue + \"Hint: The number is less than or equal to 50 \"\n",
    "\n",
    "    elif (guess<50 and number<50) or (guess>50 and number>50):\n",
    "        clue = clue + \"Hint: You're in the right range \" \n",
    "\n",
    "    print(clue)\n",
    "\n",
    "def compare_NumberGuess(number, guess):\n",
    "    #this function will compare the randomly generated number and user inputted guess number\n",
    "    #if the number and the guess are equal, the function returns true, otherwise false\n",
    "\n",
    "    if guess==number:\n",
    "        return True\n",
    "    else:\n",
    "        return False\n",
    "    \n",
    " "
   ]
  },
  {
   "cell_type": "code",
   "execution_count": 4,
   "metadata": {},
   "outputs": [
    {
     "name": "stdout",
     "output_type": "stream",
     "text": [
      "Welcome to the Number Guessing Game!\n",
      "I have picked a number between 1 and 100. Can you guess it?  Note, the number is  42\n",
      "You guessed 50. Too high! Try again. Hint: That's right, the number is even \n",
      "You guessed 25. Too low! Try again. Hint: The number is even. Hint: You're in the right range \n",
      "You guessed 26. Too low! Try again. Hint: That's right, the number is even Hint: You're in the right range \n",
      "Congratulations! You guessed the number in 4 attempts!\n"
     ]
    }
   ],
   "source": [
    "number = generate_random_number(1,100)\n",
    "attempts = 1\n",
    "\n",
    "print(\"Welcome to the Number Guessing Game!\")\n",
    "print(\"I have picked a number between 1 and 100. Can you guess it?\")\n",
    "\n",
    "guess = int(input(\"Enter your guess: \"))\n",
    "\n",
    "while not compare_NumberGuess(number,guess):\n",
    "\n",
    "   attempts = attempts+1\n",
    "   generate_clue(number, guess)\n",
    "   guess = int(input(\"Enter your guess: \"))\n",
    "\n",
    "   \n",
    "print(f\"Congratulations! You guessed the number in {attempts} attempts!\")\n",
    "   \n",
    "    \n"
   ]
  },
  {
   "attachments": {},
   "cell_type": "markdown",
   "metadata": {},
   "source": [
    "### Question 2 (5 marks):\n",
    "\n",
    "Build a set of unit tests for the application. Explain your rationale for which tests you decided to build."
   ]
  },
  {
   "cell_type": "code",
   "execution_count": null,
   "metadata": {},
   "outputs": [
    {
     "ename": "AssertionError",
     "evalue": "",
     "output_type": "error",
     "traceback": [
      "\u001b[1;31m---------------------------------------------------------------------------\u001b[0m",
      "\u001b[1;31mAssertionError\u001b[0m                            Traceback (most recent call last)",
      "Cell \u001b[1;32mIn[22], line 16\u001b[0m\n\u001b[0;32m     14\u001b[0m \u001b[39m#validate that the function to compare the guess and the random number returns true when the number is equal to the guess and vice versa\u001b[39;00m\n\u001b[0;32m     15\u001b[0m \u001b[39massert\u001b[39;00m compare_NumberGuess(\u001b[39m50\u001b[39m,\u001b[39m50\u001b[39m) \u001b[39m==\u001b[39m \u001b[39mTrue\u001b[39;00m\n\u001b[1;32m---> 16\u001b[0m \u001b[39massert\u001b[39;00m compare_NumberGuess(\u001b[39m25\u001b[39m,\u001b[39m50\u001b[39m) \u001b[39m==\u001b[39m \u001b[39mTrue\u001b[39;00m \n",
      "\u001b[1;31mAssertionError\u001b[0m: "
     ]
    }
   ],
   "source": [
    "#validate that the function to generate a random number with a high limit of 100 will return a value less than or equal to 100\n",
    "assert generate_random_number(1,100)<=100\n",
    "\n",
    "#validate that the function to generate a random number with a low limit of 1 will return a value greater than or equal to 1\n",
    "assert generate_random_number(1,100)>=1\n",
    "\n",
    "#validate that the function to generate a random number with negative parameters will still always return a value between the absolute values of the parameters\n",
    "assert generate_random_number(-1,-100)>=1 and generate_random_number(-1,-100)<=100\n",
    "\n",
    "#validate that the function to generate a random number with a low point that is greater than the high point will still generate a number that is between those two points\n",
    "assert generate_random_number(100,1)>=1 and generate_random_number(100,1)<=100\n",
    "\n",
    "\n",
    "#validate that the function to compare the guess and the random number returns true when the number is equal to the guess and vice versa\n",
    "assert compare_NumberGuess(50,50) == True\n",
    "assert compare_NumberGuess(25,50) == True \n",
    "\n",
    "\n"
   ]
  },
  {
   "cell_type": "code",
   "execution_count": null,
   "metadata": {},
   "outputs": [],
   "source": []
  }
 ],
 "metadata": {
  "kernelspec": {
   "display_name": "Python 3",
   "language": "python",
   "name": "python3"
  },
  "language_info": {
   "codemirror_mode": {
    "name": "ipython",
    "version": 3
   },
   "file_extension": ".py",
   "mimetype": "text/x-python",
   "name": "python",
   "nbconvert_exporter": "python",
   "pygments_lexer": "ipython3",
   "version": "3.11.4"
  }
 },
 "nbformat": 4,
 "nbformat_minor": 4
}
