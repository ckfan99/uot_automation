{
 "cells": [
  {
   "attachments": {},
   "cell_type": "markdown",
   "metadata": {},
   "source": [
    "# Python for Automation - Assignment 1\n",
    "\n",
    "## Assignment Objectives\n",
    "\n",
    "The objectives of this assignment are to test your understanding of the Python basics, including:\n",
    "\n",
    "* Working with and manipulating data objects\n",
    "* Working with loops\n",
    "* Defining custom functions\n",
    "\n",
    "\n",
    "## Assignment Instructions\n",
    "\n",
    "For each of the questions below, write Python code to produce the answer. Be sure to run your code and display the output.\n",
    "\n",
    "To submit the assignment, save your Jupyter notebook and submit the file in Quercus."
   ]
  },
  {
   "attachments": {},
   "cell_type": "markdown",
   "metadata": {},
   "source": [
    "### Question 1 (5 marks):\n",
    "\n",
    "* Create a list object which consists of the folowing digits: 1,5,6,7,8,9,11\n",
    "* Write a Python program which returns the first and last value of the list. The output should be [1,11]\n",
    "* Write a Python program which returns each value of the list multiplied by 3 (for example, 1 * 3, 5 * 3, etc.)"
   ]
  },
  {
   "cell_type": "code",
   "execution_count": 10,
   "metadata": {},
   "outputs": [
    {
     "name": "stdout",
     "output_type": "stream",
     "text": [
      "[ 1 , 11 ]\n"
     ]
    }
   ],
   "source": [
    "#create the list\n",
    "q1List = [1,5,6,7,8,9,11]\n",
    "print(\"[\",q1List[0],\",\",q1List[-1],\"]\")"
   ]
  },
  {
   "cell_type": "code",
   "execution_count": 11,
   "metadata": {},
   "outputs": [
    {
     "name": "stdout",
     "output_type": "stream",
     "text": [
      "[3, 15, 18, 21, 24, 27, 33]\n"
     ]
    }
   ],
   "source": [
    "timesByThree = []\n",
    "for x in q1List:\n",
    "    timesByThree.append(x*3)\n",
    "\n",
    "print(timesByThree)\n",
    "\n"
   ]
  },
  {
   "attachments": {},
   "cell_type": "markdown",
   "metadata": {},
   "source": [
    "### Question 2 (5 marks):\n",
    "\n",
    "Define a custom function which can take a list as an input, and pull out / display only the values divisible by 3, in order from smallest to largest. For example, if the list [1,12,7,3] was passed through the function, the output should be [3,12] since these two integers are divisible by 3, ordered from smallest to largest. Test your function on the following lists:\n",
    "\n",
    "* [1,6,8,12,7,24,3] -- the output should be [3,6,12,24]\n",
    "* [2,18,9,5,13,30,6] -- the output should be [6,9,18,30]"
   ]
  },
  {
   "cell_type": "code",
   "execution_count": 12,
   "metadata": {},
   "outputs": [],
   "source": [
    "q2FirstList = [1,6,8,12,7,24,3]\n",
    "q2SecondList = [2,18,9,5,13,30,6]\n",
    "\n",
    "\n",
    "\n",
    "def divisibleByThree(t_List):\n",
    "    myOutput = []\n",
    "    for x in t_List:\n",
    "        if x%3==0:\n",
    "            myOutput.append(x)\n",
    "\n",
    "    myOutput.sort()\n",
    "    \n",
    "    print (myOutput)\n",
    "\n",
    "\n",
    "\n",
    "\n"
   ]
  },
  {
   "cell_type": "code",
   "execution_count": 13,
   "metadata": {},
   "outputs": [
    {
     "name": "stdout",
     "output_type": "stream",
     "text": [
      "[3, 6, 12, 24]\n",
      "[6, 9, 18, 30]\n"
     ]
    }
   ],
   "source": [
    "divisibleByThree(q2FirstList)\n",
    "divisibleByThree(q2SecondList)"
   ]
  },
  {
   "attachments": {},
   "cell_type": "markdown",
   "metadata": {},
   "source": [
    "### Question 3 (5 marks):\n",
    "\n",
    "Given a set of coordinates of a line (x1,y1) and (x2,y2), write a custom Python function which can calculate the slope of the line (change in y divided by change in x). Test your function with the following sets of coordinates:\n",
    "\n",
    "* (1,2) and (7,10)\n",
    "* (3,4) and (13,17)\n",
    "* (7,6) and (11,2)"
   ]
  },
  {
   "cell_type": "code",
   "execution_count": 14,
   "metadata": {},
   "outputs": [],
   "source": [
    "def findSlope(firstCoord,secondCoord):\n",
    "    #assumption: the lists for firstCoord and secondCoord represent the coordinates of the first and second coordinates respectively and only have two integer elements in them\n",
    "    x1 = firstCoord[0]\n",
    "    x2 = secondCoord[0]\n",
    "    y1 = firstCoord[1]\n",
    "    y2 = secondCoord[1]\n",
    "    return ((y2-y1)/(x2-x1))\n"
   ]
  },
  {
   "cell_type": "code",
   "execution_count": 15,
   "metadata": {},
   "outputs": [
    {
     "name": "stdout",
     "output_type": "stream",
     "text": [
      "1.3333333333333333\n",
      "1.3\n",
      "-1.0\n"
     ]
    }
   ],
   "source": [
    "print(findSlope([1,2],[7,10]))\n",
    "print(findSlope([3,4],[13,17]))\n",
    "print(findSlope([7,6],[11,2]))\n"
   ]
  }
 ],
 "metadata": {
  "kernelspec": {
   "display_name": "Python 3",
   "language": "python",
   "name": "python3"
  },
  "language_info": {
   "codemirror_mode": {
    "name": "ipython",
    "version": 3
   },
   "file_extension": ".py",
   "mimetype": "text/x-python",
   "name": "python",
   "nbconvert_exporter": "python",
   "pygments_lexer": "ipython3",
   "version": "3.11.3"
  }
 },
 "nbformat": 4,
 "nbformat_minor": 4
}
