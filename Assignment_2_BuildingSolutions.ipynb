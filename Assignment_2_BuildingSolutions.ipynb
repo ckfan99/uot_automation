{
 "cells": [
  {
   "attachments": {},
   "cell_type": "markdown",
   "metadata": {},
   "source": [
    "# Python for Automation - Assignment 2\n",
    "\n",
    "## Assignment Objectives\n",
    "\n",
    "The objectives of this assignment are to test your understanding of the solution development practices with Python, including:\n",
    "\n",
    "* Working with classes\n",
    "* Working with functions\n",
    "* Working with data files\n",
    "\n",
    "\n",
    "## Assignment Instructions\n",
    "\n",
    "For each of the questions below, write Python code to produce the answer. Be sure to run your code and display the output.\n",
    "\n",
    "To submit the assignment, save your Jupyter notebook and submit the file in Quercus."
   ]
  },
  {
   "attachments": {},
   "cell_type": "markdown",
   "metadata": {},
   "source": [
    "### Question 1 (5 marks):\n",
    "\n",
    "* A company which started in 2020 has asked you to build an HR program to hold information about its employees. You've been given the following requirements: \n",
    "    - Create a new class called 'Employees' which holds the following information about each employee: year_onboarded, name, assigned_email, department, manager, current_salary, and assigned_software.\n",
    "        - The email should take the format of \"name@company.com\". This should be an auto-populated field.\n",
    "        - The class should also have methods to return information relevant to HR or IT. It should include, at least:\n",
    "            - The count of softwares the employee has access to\n",
    "            - How many years the employee has worked in the company since its inception\n",
    "            - The employee's raise and new salary at Year End, assuming a 5% increase rate\n",
    "\n",
    "\n",
    "* Feel free to add any additional attributes or methods you think are necessary.\n",
    "\n",
    "\n",
    "* Create a few test employees and demonstrate how the attributes and methods defined work."
   ]
  },
  {
   "cell_type": "code",
   "execution_count": 52,
   "metadata": {},
   "outputs": [],
   "source": [
    "class Employees:\n",
    "    def __init__(self, year_onboarded, name, department, manager, current_salary, assigned_software):\n",
    "        self.year_onboarded = year_onboarded\n",
    "        self.name = name\n",
    "        self.assigned_email = self.name+\"@company.com\"\n",
    "        self.assigned_email = self.assigned_email.lower()\n",
    "        self.department = department\n",
    "        self.manager = manager\n",
    "        self.current_salary = current_salary\n",
    "        self.assigned_software = assigned_software\n",
    "\n",
    "\n",
    "    def calc_raiseNewSalary(self):\n",
    "        newRaise = self.current_salary*0.05\n",
    "        newSalary = self.current_salary + newRaise\n",
    "        return (newRaise, newSalary)\n",
    "    \n",
    "    def how_manySoftware(self):\n",
    "        return len(self.assigned_software)\n",
    "    \n",
    "    def how_longWorked(self):\n",
    "        return self.year_onboarded-2020\n",
    "\n",
    "\n",
    "\n",
    "\n"
   ]
  },
  {
   "cell_type": "code",
   "execution_count": 53,
   "metadata": {},
   "outputs": [],
   "source": [
    "class Software:\n",
    "    def __init__(self,department,assigned_software):\n",
    "        self.department = department\n",
    "        self.assigned_software = assigned_software\n",
    "\n",
    "    #def softwareByDept(self,department):\n",
    "        #for x in self.assigned_software:\n",
    "            #if \n",
    "\n"
   ]
  },
  {
   "cell_type": "code",
   "execution_count": 60,
   "metadata": {},
   "outputs": [
    {
     "ename": "SyntaxError",
     "evalue": "invalid syntax (3516128786.py, line 1)",
     "output_type": "error",
     "traceback": [
      "\u001b[1;36m  Cell \u001b[1;32mIn[60], line 1\u001b[1;36m\u001b[0m\n\u001b[1;33m    pip install pandas\u001b[0m\n\u001b[1;37m        ^\u001b[0m\n\u001b[1;31mSyntaxError\u001b[0m\u001b[1;31m:\u001b[0m invalid syntax\n"
     ]
    }
   ],
   "source": [
    "pip install pandas\n",
    "import pandas as pd\n",
    "\n",
    "\n",
    "import csv\n",
    "\n",
    "\n",
    "\n",
    "#p1 = Employees(2022,\"Calvin\", \"Proclaimers\", \"Stephen Hunt\", 150000, ['Python','Windows','JIRA'])\n",
    "#print(p1.how_manySoftware())\n",
    "# open files with Python's built-in open() function > must be on your local drive\n",
    "\n",
    "\n",
    "ls_newHireData = [] # empty list to hold the dictionary for each user\n",
    "\n",
    "nh = pd.read_csv('https://raw.githubusercontent.com/ckfan99/uot_automation/main/access.csv')\n",
    "\n",
    "\n",
    "\n"
   ]
  },
  {
   "attachments": {},
   "cell_type": "markdown",
   "metadata": {},
   "source": [
    "### Question 2 (10 marks):\n",
    "\n",
    "* To onboard new employees, the company has a process by which HR provides a csv file with the information captured in the class above, includng: Year Onboarded, Name, Department, Manager, and Current Salary. The Manager of the employee provides a separate csv file listing the software requirements for each employee. Now that you have defined the class to hold the relevant data, create a program which can do the following:\n",
    "\n",
    "- Take the stated csv files as inputs and assign data for each employee to the class\n",
    "- Produce a single output (e.g., a csv file) which can be given to IT to assign software to all new hires"
   ]
  },
  {
   "cell_type": "code",
   "execution_count": null,
   "metadata": {},
   "outputs": [],
   "source": []
  },
  {
   "cell_type": "code",
   "execution_count": null,
   "metadata": {},
   "outputs": [],
   "source": []
  }
 ],
 "metadata": {
  "kernelspec": {
   "display_name": "Python 3",
   "language": "python",
   "name": "python3"
  },
  "language_info": {
   "codemirror_mode": {
    "name": "ipython",
    "version": 3
   },
   "file_extension": ".py",
   "mimetype": "text/x-python",
   "name": "python",
   "nbconvert_exporter": "python",
   "pygments_lexer": "ipython3",
   "version": "3.11.3"
  },
  "vscode": {
   "interpreter": {
    "hash": "aee8b7b246df8f9039afb4144a1f6fd8d2ca17a180786b69acc140d282b71a49"
   }
  }
 },
 "nbformat": 4,
 "nbformat_minor": 4
}
