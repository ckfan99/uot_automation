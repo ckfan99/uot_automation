{
 "cells": [
  {
   "attachments": {},
   "cell_type": "markdown",
   "metadata": {},
   "source": [
    "# Python for Automation - Assignment 2\n",
    "\n",
    "## Assignment Objectives\n",
    "\n",
    "The objectives of this assignment are to test your understanding of the solution development practices with Python, including:\n",
    "\n",
    "* Working with classes\n",
    "* Working with functions\n",
    "* Working with data files\n",
    "\n",
    "\n",
    "## Assignment Instructions\n",
    "\n",
    "For each of the questions below, write Python code to produce the answer. Be sure to run your code and display the output.\n",
    "\n",
    "To submit the assignment, save your Jupyter notebook and submit the file in Quercus."
   ]
  },
  {
   "attachments": {},
   "cell_type": "markdown",
   "metadata": {},
   "source": [
    "### Question 1 (5 marks):\n",
    "\n",
    "* A company which started in 2020 has asked you to build an HR program to hold information about its employees. You've been given the following requirements: \n",
    "- Create a new class called 'Employees' which holds the following information about each employee: year_onboarded, name, assigned_email, department, manager, current_salary, and assigned_software.\n",
    "    - The email should take the format of \"name@company.com\". This should be an auto-populated field.\n",
    "        - The class should also have methods to return information relevant to HR or IT. It should include, at least:\n",
    "            - The count of softwares the employee has access to\n",
    "            - How many years the employee has worked in the company since its inception\n",
    "            - The employee's raise and new salary at Year End, assuming a 5% increase rate\n",
    "\n",
    "\n",
    "* Feel free to add any additional attributes or methods you think are necessary.\n",
    "\n",
    "\n",
    "* Create a few test employees and demonstrate how the attributes and methods defined work."
   ]
  },
  {
   "cell_type": "code",
   "execution_count": 256,
   "metadata": {},
   "outputs": [],
   "source": [
    "class Employees:\n",
    "    def __init__(self, year_onboarded, name, department, manager, current_salary, assigned_software):\n",
    "        self.year_onboarded = year_onboarded\n",
    "        self.name = name\n",
    "        self.assigned_email = self.name+\"@company.com\"\n",
    "        self.assigned_email = self.assigned_email.lower()\n",
    "        self.department = department\n",
    "        self.manager = manager\n",
    "        self.current_salary = current_salary\n",
    "        self.assigned_software = assigned_software\n",
    "\n",
    "\n",
    "    def calc_raiseNewSalary(self):\n",
    "        newRaise = self.current_salary*0.05\n",
    "        newSalary = self.current_salary + newRaise\n",
    "        return (newRaise, newSalary)\n",
    "    \n",
    "    def how_manySoftware(self):\n",
    "        numCommas = self.assigned_software.count(\",\")\n",
    "\n",
    "        if numCommas>0:\n",
    "            return numCommas + 1\n",
    "        elif numCommas == 0 and len(self.assigned_software)==0:\n",
    "            return 0\n",
    "        else:\n",
    "            return 1\n",
    "        \n",
    "    def how_longWorked(self):\n",
    "        return self.year_onboarded-2020\n",
    "    \n",
    "\n",
    "\n",
    "\n",
    "\n",
    "\n"
   ]
  },
  {
   "cell_type": "code",
   "execution_count": 257,
   "metadata": {},
   "outputs": [
    {
     "name": "stdout",
     "output_type": "stream",
     "text": [
      "New Hire Name -  Homer\n",
      "New Hire Year Onboarded -  2023\n",
      "Department -  Nuclear Safety Inspector\n",
      "Manager -  Mr. Burns\n",
      "How many years have they been at the company -  3  years\n",
      "Current Salary - $ 50000\n",
      "Software Access -  Tetris, Space Invaders\n",
      "How many software -  2\n",
      "Calculated raise  - $ 2500.0 \n",
      "Calculated new Salary - $ 52500.0\n"
     ]
    }
   ],
   "source": [
    "#Test the class\n",
    "\n",
    "emp_Homer = Employees(2023,\"Homer\",\"Nuclear Safety Inspector\",\"Mr. Burns\",50000, \"Tetris, Space Invaders\")\n",
    "\n",
    "emp_Homer\n",
    "    \n",
    "print(\"New Hire Name - \",emp_Homer.name)\n",
    "print(\"New Hire Year Onboarded - \", emp_Homer.year_onboarded)\n",
    "print(\"Department - \", emp_Homer.department)\n",
    "print(\"Manager - \", emp_Homer.manager)\n",
    "print(\"How many years have they been at the company - \", emp_Homer.how_longWorked(), \" years\")\n",
    "print(\"Current Salary - $\", emp_Homer.current_salary)\n",
    "print(\"Software Access - \", emp_Homer.assigned_software)\n",
    "print(\"How many software - \", emp_Homer.how_manySoftware())\n",
    "print(\"Calculated raise  - $\", emp_Homer.calc_raiseNewSalary()[0], \"\\nCalculated new Salary - $\", emp_Homer.calc_raiseNewSalary()[1])"
   ]
  },
  {
   "attachments": {},
   "cell_type": "markdown",
   "metadata": {},
   "source": [
    "### Question 2 (10 marks):\n",
    "\n",
    "* To onboard new employees, the company has a process by which HR provides a csv file with the information captured in the class above, includng: Year Onboarded, Name, Department, Manager, and Current Salary. The Manager of the employee provides a separate csv file listing the software requirements for each employee. Now that you have defined the class to hold the relevant data, create a program which can do the following:\n",
    "\n",
    "- Take the stated csv files as inputs and assign data for each employee to the class\n",
    "- Produce a single output (e.g., a csv file) which can be given to IT to assign software to all new hires"
   ]
  },
  {
   "cell_type": "code",
   "execution_count": 258,
   "metadata": {},
   "outputs": [
    {
     "ename": "PermissionError",
     "evalue": "[Errno 13] Permission denied: 'C:\\\\calvin.csv'",
     "output_type": "error",
     "traceback": [
      "\u001b[1;31m---------------------------------------------------------------------------\u001b[0m",
      "\u001b[1;31mPermissionError\u001b[0m                           Traceback (most recent call last)",
      "Cell \u001b[1;32mIn[258], line 20\u001b[0m\n\u001b[0;32m     18\u001b[0m data \u001b[39m=\u001b[39m [[obj\u001b[39m.\u001b[39mname, obj\u001b[39m.\u001b[39mdepartment, obj\u001b[39m.\u001b[39mmanager, obj\u001b[39m.\u001b[39massigned_software]]\n\u001b[0;32m     19\u001b[0m data \u001b[39m=\u001b[39m pd\u001b[39m.\u001b[39mDataFrame(data, columns\u001b[39m=\u001b[39mheader)\n\u001b[1;32m---> 20\u001b[0m data\u001b[39m.\u001b[39;49mto_csv(\u001b[39m\"\u001b[39;49m\u001b[39mC:\u001b[39;49m\u001b[39m\\\u001b[39;49m\u001b[39mcalvin.csv\u001b[39;49m\u001b[39m\"\u001b[39;49m, index \u001b[39m=\u001b[39;49m \u001b[39mFalse\u001b[39;49;00m)\n\u001b[0;32m     22\u001b[0m \u001b[39m#print(\"New Hire Name - \",obj.name)\u001b[39;00m\n\u001b[0;32m     23\u001b[0m \u001b[39m#print(\"New Hire Year Onboarded - \", obj.year_onboarded)\u001b[39;00m\n\u001b[0;32m     24\u001b[0m \u001b[39m#print(\"Department - \", obj.department)\u001b[39;00m\n\u001b[1;32m   (...)\u001b[0m\n\u001b[0;32m     31\u001b[0m \n\u001b[0;32m     32\u001b[0m \u001b[39m#print(\"\\n\")\u001b[39;00m\n",
      "File \u001b[1;32m~\\AppData\\Local\\Packages\\PythonSoftwareFoundation.Python.3.11_qbz5n2kfra8p0\\LocalCache\\local-packages\\Python311\\site-packages\\pandas\\core\\generic.py:3772\u001b[0m, in \u001b[0;36mNDFrame.to_csv\u001b[1;34m(self, path_or_buf, sep, na_rep, float_format, columns, header, index, index_label, mode, encoding, compression, quoting, quotechar, lineterminator, chunksize, date_format, doublequote, escapechar, decimal, errors, storage_options)\u001b[0m\n\u001b[0;32m   3761\u001b[0m df \u001b[39m=\u001b[39m \u001b[39mself\u001b[39m \u001b[39mif\u001b[39;00m \u001b[39misinstance\u001b[39m(\u001b[39mself\u001b[39m, ABCDataFrame) \u001b[39melse\u001b[39;00m \u001b[39mself\u001b[39m\u001b[39m.\u001b[39mto_frame()\n\u001b[0;32m   3763\u001b[0m formatter \u001b[39m=\u001b[39m DataFrameFormatter(\n\u001b[0;32m   3764\u001b[0m     frame\u001b[39m=\u001b[39mdf,\n\u001b[0;32m   3765\u001b[0m     header\u001b[39m=\u001b[39mheader,\n\u001b[1;32m   (...)\u001b[0m\n\u001b[0;32m   3769\u001b[0m     decimal\u001b[39m=\u001b[39mdecimal,\n\u001b[0;32m   3770\u001b[0m )\n\u001b[1;32m-> 3772\u001b[0m \u001b[39mreturn\u001b[39;00m DataFrameRenderer(formatter)\u001b[39m.\u001b[39;49mto_csv(\n\u001b[0;32m   3773\u001b[0m     path_or_buf,\n\u001b[0;32m   3774\u001b[0m     lineterminator\u001b[39m=\u001b[39;49mlineterminator,\n\u001b[0;32m   3775\u001b[0m     sep\u001b[39m=\u001b[39;49msep,\n\u001b[0;32m   3776\u001b[0m     encoding\u001b[39m=\u001b[39;49mencoding,\n\u001b[0;32m   3777\u001b[0m     errors\u001b[39m=\u001b[39;49merrors,\n\u001b[0;32m   3778\u001b[0m     compression\u001b[39m=\u001b[39;49mcompression,\n\u001b[0;32m   3779\u001b[0m     quoting\u001b[39m=\u001b[39;49mquoting,\n\u001b[0;32m   3780\u001b[0m     columns\u001b[39m=\u001b[39;49mcolumns,\n\u001b[0;32m   3781\u001b[0m     index_label\u001b[39m=\u001b[39;49mindex_label,\n\u001b[0;32m   3782\u001b[0m     mode\u001b[39m=\u001b[39;49mmode,\n\u001b[0;32m   3783\u001b[0m     chunksize\u001b[39m=\u001b[39;49mchunksize,\n\u001b[0;32m   3784\u001b[0m     quotechar\u001b[39m=\u001b[39;49mquotechar,\n\u001b[0;32m   3785\u001b[0m     date_format\u001b[39m=\u001b[39;49mdate_format,\n\u001b[0;32m   3786\u001b[0m     doublequote\u001b[39m=\u001b[39;49mdoublequote,\n\u001b[0;32m   3787\u001b[0m     escapechar\u001b[39m=\u001b[39;49mescapechar,\n\u001b[0;32m   3788\u001b[0m     storage_options\u001b[39m=\u001b[39;49mstorage_options,\n\u001b[0;32m   3789\u001b[0m )\n",
      "File \u001b[1;32m~\\AppData\\Local\\Packages\\PythonSoftwareFoundation.Python.3.11_qbz5n2kfra8p0\\LocalCache\\local-packages\\Python311\\site-packages\\pandas\\io\\formats\\format.py:1186\u001b[0m, in \u001b[0;36mDataFrameRenderer.to_csv\u001b[1;34m(self, path_or_buf, encoding, sep, columns, index_label, mode, compression, quoting, quotechar, lineterminator, chunksize, date_format, doublequote, escapechar, errors, storage_options)\u001b[0m\n\u001b[0;32m   1165\u001b[0m     created_buffer \u001b[39m=\u001b[39m \u001b[39mFalse\u001b[39;00m\n\u001b[0;32m   1167\u001b[0m csv_formatter \u001b[39m=\u001b[39m CSVFormatter(\n\u001b[0;32m   1168\u001b[0m     path_or_buf\u001b[39m=\u001b[39mpath_or_buf,\n\u001b[0;32m   1169\u001b[0m     lineterminator\u001b[39m=\u001b[39mlineterminator,\n\u001b[1;32m   (...)\u001b[0m\n\u001b[0;32m   1184\u001b[0m     formatter\u001b[39m=\u001b[39m\u001b[39mself\u001b[39m\u001b[39m.\u001b[39mfmt,\n\u001b[0;32m   1185\u001b[0m )\n\u001b[1;32m-> 1186\u001b[0m csv_formatter\u001b[39m.\u001b[39;49msave()\n\u001b[0;32m   1188\u001b[0m \u001b[39mif\u001b[39;00m created_buffer:\n\u001b[0;32m   1189\u001b[0m     \u001b[39massert\u001b[39;00m \u001b[39misinstance\u001b[39m(path_or_buf, StringIO)\n",
      "File \u001b[1;32m~\\AppData\\Local\\Packages\\PythonSoftwareFoundation.Python.3.11_qbz5n2kfra8p0\\LocalCache\\local-packages\\Python311\\site-packages\\pandas\\io\\formats\\csvs.py:240\u001b[0m, in \u001b[0;36mCSVFormatter.save\u001b[1;34m(self)\u001b[0m\n\u001b[0;32m    236\u001b[0m \u001b[39m\u001b[39m\u001b[39m\"\"\"\u001b[39;00m\n\u001b[0;32m    237\u001b[0m \u001b[39mCreate the writer & save.\u001b[39;00m\n\u001b[0;32m    238\u001b[0m \u001b[39m\"\"\"\u001b[39;00m\n\u001b[0;32m    239\u001b[0m \u001b[39m# apply compression and byte/text conversion\u001b[39;00m\n\u001b[1;32m--> 240\u001b[0m \u001b[39mwith\u001b[39;00m get_handle(\n\u001b[0;32m    241\u001b[0m     \u001b[39mself\u001b[39;49m\u001b[39m.\u001b[39;49mfilepath_or_buffer,\n\u001b[0;32m    242\u001b[0m     \u001b[39mself\u001b[39;49m\u001b[39m.\u001b[39;49mmode,\n\u001b[0;32m    243\u001b[0m     encoding\u001b[39m=\u001b[39;49m\u001b[39mself\u001b[39;49m\u001b[39m.\u001b[39;49mencoding,\n\u001b[0;32m    244\u001b[0m     errors\u001b[39m=\u001b[39;49m\u001b[39mself\u001b[39;49m\u001b[39m.\u001b[39;49merrors,\n\u001b[0;32m    245\u001b[0m     compression\u001b[39m=\u001b[39;49m\u001b[39mself\u001b[39;49m\u001b[39m.\u001b[39;49mcompression,\n\u001b[0;32m    246\u001b[0m     storage_options\u001b[39m=\u001b[39;49m\u001b[39mself\u001b[39;49m\u001b[39m.\u001b[39;49mstorage_options,\n\u001b[0;32m    247\u001b[0m ) \u001b[39mas\u001b[39;00m handles:\n\u001b[0;32m    248\u001b[0m     \u001b[39m# Note: self.encoding is irrelevant here\u001b[39;00m\n\u001b[0;32m    249\u001b[0m     \u001b[39mself\u001b[39m\u001b[39m.\u001b[39mwriter \u001b[39m=\u001b[39m csvlib\u001b[39m.\u001b[39mwriter(\n\u001b[0;32m    250\u001b[0m         handles\u001b[39m.\u001b[39mhandle,\n\u001b[0;32m    251\u001b[0m         lineterminator\u001b[39m=\u001b[39m\u001b[39mself\u001b[39m\u001b[39m.\u001b[39mlineterminator,\n\u001b[1;32m   (...)\u001b[0m\n\u001b[0;32m    256\u001b[0m         quotechar\u001b[39m=\u001b[39m\u001b[39mself\u001b[39m\u001b[39m.\u001b[39mquotechar,\n\u001b[0;32m    257\u001b[0m     )\n\u001b[0;32m    259\u001b[0m     \u001b[39mself\u001b[39m\u001b[39m.\u001b[39m_save()\n",
      "File \u001b[1;32m~\\AppData\\Local\\Packages\\PythonSoftwareFoundation.Python.3.11_qbz5n2kfra8p0\\LocalCache\\local-packages\\Python311\\site-packages\\pandas\\io\\common.py:859\u001b[0m, in \u001b[0;36mget_handle\u001b[1;34m(path_or_buf, mode, encoding, compression, memory_map, is_text, errors, storage_options)\u001b[0m\n\u001b[0;32m    854\u001b[0m \u001b[39melif\u001b[39;00m \u001b[39misinstance\u001b[39m(handle, \u001b[39mstr\u001b[39m):\n\u001b[0;32m    855\u001b[0m     \u001b[39m# Check whether the filename is to be opened in binary mode.\u001b[39;00m\n\u001b[0;32m    856\u001b[0m     \u001b[39m# Binary mode does not support 'encoding' and 'newline'.\u001b[39;00m\n\u001b[0;32m    857\u001b[0m     \u001b[39mif\u001b[39;00m ioargs\u001b[39m.\u001b[39mencoding \u001b[39mand\u001b[39;00m \u001b[39m\"\u001b[39m\u001b[39mb\u001b[39m\u001b[39m\"\u001b[39m \u001b[39mnot\u001b[39;00m \u001b[39min\u001b[39;00m ioargs\u001b[39m.\u001b[39mmode:\n\u001b[0;32m    858\u001b[0m         \u001b[39m# Encoding\u001b[39;00m\n\u001b[1;32m--> 859\u001b[0m         handle \u001b[39m=\u001b[39m \u001b[39mopen\u001b[39m(\n\u001b[0;32m    860\u001b[0m             handle,\n\u001b[0;32m    861\u001b[0m             ioargs\u001b[39m.\u001b[39mmode,\n\u001b[0;32m    862\u001b[0m             encoding\u001b[39m=\u001b[39mioargs\u001b[39m.\u001b[39mencoding,\n\u001b[0;32m    863\u001b[0m             errors\u001b[39m=\u001b[39merrors,\n\u001b[0;32m    864\u001b[0m             newline\u001b[39m=\u001b[39m\u001b[39m\"\u001b[39m\u001b[39m\"\u001b[39m,\n\u001b[0;32m    865\u001b[0m         )\n\u001b[0;32m    866\u001b[0m     \u001b[39melse\u001b[39;00m:\n\u001b[0;32m    867\u001b[0m         \u001b[39m# Binary mode\u001b[39;00m\n\u001b[0;32m    868\u001b[0m         handle \u001b[39m=\u001b[39m \u001b[39mopen\u001b[39m(handle, ioargs\u001b[39m.\u001b[39mmode)\n",
      "\u001b[1;31mPermissionError\u001b[0m: [Errno 13] Permission denied: 'C:\\\\calvin.csv'"
     ]
    }
   ],
   "source": [
    "import pandas as pd\n",
    "import csv\n",
    "\n",
    "df_newHires = pd.read_csv('https://raw.githubusercontent.com/ckfan99/uot_automation/main/newhires.csv')\n",
    "df_newHires = df_newHires.reset_index()\n",
    "\n",
    "df_access = pd.read_csv('https://raw.githubusercontent.com/ckfan99/uot_automation/main/access.csv', index_col = \"Department\")\n",
    "\n",
    "\n",
    "ls_newHireData = []\n",
    "\n",
    "for index, row in df_newHires.iterrows(): \n",
    "    ls_newHireData.append(Employees(row[\"Year Onboarded\"], row[\"Name\"], row[\"Department\"],row[\"Manager\"], row[\"Current Salary\"], df_access[\"Access\"].loc[row[\"Department\"]]))\n",
    "\n",
    "header = [\"Name\", \"Department\", \"Manager\", \"Assigned Software\"]\n",
    "\n",
    "for obj in ls_newHireData:\n",
    "    data = [[obj.name, obj.department, obj.manager, obj.assigned_software]]\n",
    "    data = pd.DataFrame(data, columns=header)\n",
    "    data.to_csv(\"C:\\calvin.csv\", index = False)\n",
    "\n",
    "    #print(\"New Hire Name - \",obj.name)\n",
    "    #print(\"New Hire Year Onboarded - \", obj.year_onboarded)\n",
    "    #print(\"Department - \", obj.department)\n",
    "    #print(\"Manager - \", obj.manager)\n",
    "    #print(\"How many years have they been at the company - \", obj.how_longWorked(), \" years\")\n",
    "    #print(\"Current Salary - $\", obj.current_salary)\n",
    "    #print(\"Software Access - \", obj.assigned_software)\n",
    "    #print(\"How many software - \", obj.how_manySoftware())\n",
    "    #print(\"Calculated raise  - $\", obj.calc_raiseNewSalary()[0], \"\\nCalculated new Salary - $\", obj.calc_raiseNewSalary()[1])\n",
    "    \n",
    "    #print(\"\\n\")"
   ]
  },
  {
   "cell_type": "code",
   "execution_count": null,
   "metadata": {},
   "outputs": [],
   "source": []
  }
 ],
 "metadata": {
  "kernelspec": {
   "display_name": "Python 3",
   "language": "python",
   "name": "python3"
  },
  "language_info": {
   "codemirror_mode": {
    "name": "ipython",
    "version": 3
   },
   "file_extension": ".py",
   "mimetype": "text/x-python",
   "name": "python",
   "nbconvert_exporter": "python",
   "pygments_lexer": "ipython3",
   "version": "3.11.3"
  },
  "vscode": {
   "interpreter": {
    "hash": "aee8b7b246df8f9039afb4144a1f6fd8d2ca17a180786b69acc140d282b71a49"
   }
  }
 },
 "nbformat": 4,
 "nbformat_minor": 4
}
